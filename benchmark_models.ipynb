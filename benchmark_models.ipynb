{
 "cells": [
  {
   "cell_type": "code",
   "execution_count": 1,
   "metadata": {},
   "outputs": [],
   "source": [
    "import pandas as pd\n",
    "import numpy as np"
   ]
  },
  {
   "cell_type": "code",
   "execution_count": 10,
   "metadata": {},
   "outputs": [
    {
     "name": "stdout",
     "output_type": "stream",
     "text": [
      "<class 'pandas.core.frame.DataFrame'>\n",
      "RangeIndex: 146045 entries, 0 to 146044\n",
      "Data columns (total 46 columns):\n",
      " #   Column       Non-Null Count   Dtype  \n",
      "---  ------       --------------   -----  \n",
      " 0   fyear        146045 non-null  int64  \n",
      " 1   gvkey        146045 non-null  int64  \n",
      " 2   p_aaer       964 non-null     float64\n",
      " 3   misstate     146045 non-null  int64  \n",
      " 4   act          146045 non-null  float64\n",
      " 5   ap           146045 non-null  float64\n",
      " 6   at           146045 non-null  float64\n",
      " 7   ceq          146045 non-null  float64\n",
      " 8   che          146045 non-null  float64\n",
      " 9   cogs         146045 non-null  float64\n",
      " 10  csho         146045 non-null  float64\n",
      " 11  dlc          146045 non-null  float64\n",
      " 12  dltis        146045 non-null  float64\n",
      " 13  dltt         146045 non-null  float64\n",
      " 14  dp           146045 non-null  float64\n",
      " 15  ib           146045 non-null  float64\n",
      " 16  invt         146045 non-null  float64\n",
      " 17  ivao         146045 non-null  float64\n",
      " 18  ivst         146045 non-null  float64\n",
      " 19  lct          146045 non-null  float64\n",
      " 20  lt           146045 non-null  float64\n",
      " 21  ni           146045 non-null  float64\n",
      " 22  ppegt        146045 non-null  float64\n",
      " 23  pstk         146045 non-null  float64\n",
      " 24  re           146045 non-null  float64\n",
      " 25  rect         146045 non-null  float64\n",
      " 26  sale         146045 non-null  float64\n",
      " 27  sstk         146045 non-null  float64\n",
      " 28  txp          146045 non-null  float64\n",
      " 29  txt          146045 non-null  float64\n",
      " 30  xint         146045 non-null  float64\n",
      " 31  prcc_f       146045 non-null  float64\n",
      " 32  dch_wc       141286 non-null  float64\n",
      " 33  ch_rsst      141194 non-null  float64\n",
      " 34  dch_rec      141302 non-null  float64\n",
      " 35  dch_inv      141430 non-null  float64\n",
      " 36  soft_assets  145453 non-null  float64\n",
      " 37  ch_cs        130127 non-null  float64\n",
      " 38  ch_cm        128938 non-null  float64\n",
      " 39  ch_roa       133367 non-null  float64\n",
      " 40  issue        146045 non-null  int64  \n",
      " 41  bm           146027 non-null  float64\n",
      " 42  dpi          136817 non-null  float64\n",
      " 43  reoa         145454 non-null  float64\n",
      " 44  EBIT         145454 non-null  float64\n",
      " 45  ch_fcf       140638 non-null  float64\n",
      "dtypes: float64(42), int64(4)\n",
      "memory usage: 51.3 MB\n"
     ]
    }
   ],
   "source": [
    "df = pd.read_csv('data_FraudDetection_JAR2020.csv')\n",
    "df.info()"
   ]
  },
  {
   "cell_type": "code",
   "execution_count": 11,
   "metadata": {},
   "outputs": [
    {
     "data": {
      "text/plain": [
       "Index(['fyear', 'gvkey', 'p_aaer', 'misstate', 'act', 'ap', 'at', 'ceq', 'che',\n",
       "       'cogs', 'csho', 'dlc', 'dltis', 'dltt', 'dp', 'ib', 'invt', 'ivao',\n",
       "       'ivst', 'lct', 'lt', 'ni', 'ppegt', 'pstk', 're', 'rect', 'sale',\n",
       "       'sstk', 'txp', 'txt', 'xint', 'prcc_f', 'dch_wc', 'ch_rsst', 'dch_rec',\n",
       "       'dch_inv', 'soft_assets', 'ch_cs', 'ch_cm', 'ch_roa', 'issue', 'bm',\n",
       "       'dpi', 'reoa', 'EBIT', 'ch_fcf'],\n",
       "      dtype='object')"
      ]
     },
     "execution_count": 11,
     "metadata": {},
     "output_type": "execute_result"
    }
   ],
   "source": [
    "df.columns"
   ]
  },
  {
   "cell_type": "code",
   "execution_count": 24,
   "metadata": {},
   "outputs": [
    {
     "data": {
      "text/plain": [
       "fyear               0\n",
       "gvkey               0\n",
       "p_aaer         107562\n",
       "misstate            0\n",
       "act                 0\n",
       "ap                  0\n",
       "at                  0\n",
       "ceq                 0\n",
       "che                 0\n",
       "cogs                0\n",
       "csho                0\n",
       "dlc                 0\n",
       "dltis               0\n",
       "dltt                0\n",
       "dp                  0\n",
       "ib                  0\n",
       "invt                0\n",
       "ivao                0\n",
       "ivst                0\n",
       "lct                 0\n",
       "lt                  0\n",
       "ni                  0\n",
       "ppegt               0\n",
       "pstk                0\n",
       "re                  0\n",
       "rect                0\n",
       "sale                0\n",
       "sstk                0\n",
       "txp                 0\n",
       "txt                 0\n",
       "xint                0\n",
       "prcc_f              0\n",
       "dch_wc           3185\n",
       "ch_rsst          3244\n",
       "dch_rec          3115\n",
       "dch_inv          3058\n",
       "soft_assets       391\n",
       "ch_cs           11268\n",
       "ch_cm           12109\n",
       "ch_roa           9253\n",
       "issue               0\n",
       "bm                 15\n",
       "dpi              5931\n",
       "reoa              390\n",
       "EBIT              390\n",
       "ch_fcf           3712\n",
       "dtype: int64"
      ]
     },
     "execution_count": 24,
     "metadata": {},
     "output_type": "execute_result"
    }
   ],
   "source": [
    "df = df[(df['fyear']>= 1991) & (df['fyear']<= 2008)]\n",
    "df.isna().sum()"
   ]
  },
  {
   "cell_type": "markdown",
   "metadata": {},
   "source": [
    "There are missing financial ratios"
   ]
  },
  {
   "cell_type": "code",
   "execution_count": 25,
   "metadata": {},
   "outputs": [
    {
     "data": {
      "text/plain": [
       "(108399, 46)"
      ]
     },
     "execution_count": 25,
     "metadata": {},
     "output_type": "execute_result"
    }
   ],
   "source": [
    "df.shape"
   ]
  },
  {
   "cell_type": "markdown",
   "metadata": {},
   "source": [
    "# Train-Test Split"
   ]
  },
  {
   "cell_type": "code",
   "execution_count": 27,
   "metadata": {},
   "outputs": [],
   "source": [
    "from sklearn.model_selection import train_test_split\n",
    "train, test = train_test_split(df, test_size=0.2, random_state=42)"
   ]
  },
  {
   "cell_type": "code",
   "execution_count": 41,
   "metadata": {},
   "outputs": [],
   "source": [
    "# Recode all the fraudulent years in the training period to zero for those cases of serial fraud that span both the training and test sets. \n",
    "for index, row in train.iterrows():\n",
    "    if row['p_aaer'] in test['p_aaer'].values:\n",
    "        train.at[index, 'misstate'] = 0\n"
   ]
  },
  {
   "cell_type": "markdown",
   "metadata": {},
   "source": [
    "# Get predictors, target"
   ]
  },
  {
   "cell_type": "code",
   "execution_count": 54,
   "metadata": {},
   "outputs": [],
   "source": [
    "# We add fyear and raw fiancial data as predictors\n",
    "raw = ['fyear', 'act', 'ap', 'at', 'ceq', 'che',\n",
    "       'cogs', 'csho', 'dlc', 'dltis', 'dltt', 'dp', 'ib', 'invt', 'ivao',\n",
    "       'ivst', 'lct', 'lt', 'ni', 'ppegt', 'pstk', 're', 'rect', 'sale',\n",
    "       'sstk', 'txp', 'txt', 'xint', 'prcc_f']\n",
    "# We add fyear and fiancial ratios as predictors\n",
    "ratio = ['fyear', 'dch_wc', 'ch_rsst', 'dch_rec',\n",
    "       'dch_inv', 'soft_assets', 'ch_cs', 'ch_cm', 'ch_roa', 'issue', 'bm',\n",
    "       'dpi', 'reoa', 'EBIT', 'ch_fcf']\n",
    "\n",
    "X_train_raw = train[raw]\n",
    "X_test_raw = test[raw]\n",
    "\n",
    "X_train_ratio = train[ratio]\n",
    "X_test_ratio = test[ratio]\n",
    "\n",
    "y_train = train['misstate']\n",
    "y_test = test['misstate']\n",
    "\n",
    "y_train_raw = train['misstate']\n",
    "y_test_raw = test['misstate']"
   ]
  },
  {
   "cell_type": "markdown",
   "metadata": {},
   "source": [
    "# Handle missing values"
   ]
  },
  {
   "cell_type": "code",
   "execution_count": 55,
   "metadata": {},
   "outputs": [
    {
     "data": {
      "text/plain": [
       "fyear             0\n",
       "dch_wc         2527\n",
       "ch_rsst        2576\n",
       "dch_rec        2474\n",
       "dch_inv        2427\n",
       "soft_assets     307\n",
       "ch_cs          9062\n",
       "ch_cm          9735\n",
       "ch_roa         7423\n",
       "issue             0\n",
       "bm               12\n",
       "dpi            4732\n",
       "reoa            306\n",
       "EBIT            306\n",
       "ch_fcf         2970\n",
       "dtype: int64"
      ]
     },
     "execution_count": 55,
     "metadata": {},
     "output_type": "execute_result"
    }
   ],
   "source": [
    "X_train_ratio.isna().sum()"
   ]
  },
  {
   "cell_type": "code",
   "execution_count": 56,
   "metadata": {},
   "outputs": [
    {
     "name": "stderr",
     "output_type": "stream",
     "text": [
      "/var/folders/m4/wpp5ytyx7cx5d0jgdsbgt_3r0000gn/T/ipykernel_66550/2061040635.py:18: SettingWithCopyWarning: \n",
      "A value is trying to be set on a copy of a slice from a DataFrame.\n",
      "Try using .loc[row_indexer,col_indexer] = value instead\n",
      "\n",
      "See the caveats in the documentation: https://pandas.pydata.org/pandas-docs/stable/user_guide/indexing.html#returning-a-view-versus-a-copy\n",
      "  X_train_ratio[col] = imputed_train\n",
      "/var/folders/m4/wpp5ytyx7cx5d0jgdsbgt_3r0000gn/T/ipykernel_66550/2061040635.py:19: SettingWithCopyWarning: \n",
      "A value is trying to be set on a copy of a slice from a DataFrame.\n",
      "Try using .loc[row_indexer,col_indexer] = value instead\n",
      "\n",
      "See the caveats in the documentation: https://pandas.pydata.org/pandas-docs/stable/user_guide/indexing.html#returning-a-view-versus-a-copy\n",
      "  X_test_ratio[col] = imputed_test\n",
      "/var/folders/m4/wpp5ytyx7cx5d0jgdsbgt_3r0000gn/T/ipykernel_66550/2061040635.py:18: SettingWithCopyWarning: \n",
      "A value is trying to be set on a copy of a slice from a DataFrame.\n",
      "Try using .loc[row_indexer,col_indexer] = value instead\n",
      "\n",
      "See the caveats in the documentation: https://pandas.pydata.org/pandas-docs/stable/user_guide/indexing.html#returning-a-view-versus-a-copy\n",
      "  X_train_ratio[col] = imputed_train\n",
      "/var/folders/m4/wpp5ytyx7cx5d0jgdsbgt_3r0000gn/T/ipykernel_66550/2061040635.py:19: SettingWithCopyWarning: \n",
      "A value is trying to be set on a copy of a slice from a DataFrame.\n",
      "Try using .loc[row_indexer,col_indexer] = value instead\n",
      "\n",
      "See the caveats in the documentation: https://pandas.pydata.org/pandas-docs/stable/user_guide/indexing.html#returning-a-view-versus-a-copy\n",
      "  X_test_ratio[col] = imputed_test\n",
      "/var/folders/m4/wpp5ytyx7cx5d0jgdsbgt_3r0000gn/T/ipykernel_66550/2061040635.py:18: SettingWithCopyWarning: \n",
      "A value is trying to be set on a copy of a slice from a DataFrame.\n",
      "Try using .loc[row_indexer,col_indexer] = value instead\n",
      "\n",
      "See the caveats in the documentation: https://pandas.pydata.org/pandas-docs/stable/user_guide/indexing.html#returning-a-view-versus-a-copy\n",
      "  X_train_ratio[col] = imputed_train\n",
      "/var/folders/m4/wpp5ytyx7cx5d0jgdsbgt_3r0000gn/T/ipykernel_66550/2061040635.py:19: SettingWithCopyWarning: \n",
      "A value is trying to be set on a copy of a slice from a DataFrame.\n",
      "Try using .loc[row_indexer,col_indexer] = value instead\n",
      "\n",
      "See the caveats in the documentation: https://pandas.pydata.org/pandas-docs/stable/user_guide/indexing.html#returning-a-view-versus-a-copy\n",
      "  X_test_ratio[col] = imputed_test\n",
      "/var/folders/m4/wpp5ytyx7cx5d0jgdsbgt_3r0000gn/T/ipykernel_66550/2061040635.py:18: SettingWithCopyWarning: \n",
      "A value is trying to be set on a copy of a slice from a DataFrame.\n",
      "Try using .loc[row_indexer,col_indexer] = value instead\n",
      "\n",
      "See the caveats in the documentation: https://pandas.pydata.org/pandas-docs/stable/user_guide/indexing.html#returning-a-view-versus-a-copy\n",
      "  X_train_ratio[col] = imputed_train\n",
      "/var/folders/m4/wpp5ytyx7cx5d0jgdsbgt_3r0000gn/T/ipykernel_66550/2061040635.py:19: SettingWithCopyWarning: \n",
      "A value is trying to be set on a copy of a slice from a DataFrame.\n",
      "Try using .loc[row_indexer,col_indexer] = value instead\n",
      "\n",
      "See the caveats in the documentation: https://pandas.pydata.org/pandas-docs/stable/user_guide/indexing.html#returning-a-view-versus-a-copy\n",
      "  X_test_ratio[col] = imputed_test\n",
      "/var/folders/m4/wpp5ytyx7cx5d0jgdsbgt_3r0000gn/T/ipykernel_66550/2061040635.py:18: SettingWithCopyWarning: \n",
      "A value is trying to be set on a copy of a slice from a DataFrame.\n",
      "Try using .loc[row_indexer,col_indexer] = value instead\n",
      "\n",
      "See the caveats in the documentation: https://pandas.pydata.org/pandas-docs/stable/user_guide/indexing.html#returning-a-view-versus-a-copy\n",
      "  X_train_ratio[col] = imputed_train\n",
      "/var/folders/m4/wpp5ytyx7cx5d0jgdsbgt_3r0000gn/T/ipykernel_66550/2061040635.py:19: SettingWithCopyWarning: \n",
      "A value is trying to be set on a copy of a slice from a DataFrame.\n",
      "Try using .loc[row_indexer,col_indexer] = value instead\n",
      "\n",
      "See the caveats in the documentation: https://pandas.pydata.org/pandas-docs/stable/user_guide/indexing.html#returning-a-view-versus-a-copy\n",
      "  X_test_ratio[col] = imputed_test\n",
      "/var/folders/m4/wpp5ytyx7cx5d0jgdsbgt_3r0000gn/T/ipykernel_66550/2061040635.py:18: SettingWithCopyWarning: \n",
      "A value is trying to be set on a copy of a slice from a DataFrame.\n",
      "Try using .loc[row_indexer,col_indexer] = value instead\n",
      "\n",
      "See the caveats in the documentation: https://pandas.pydata.org/pandas-docs/stable/user_guide/indexing.html#returning-a-view-versus-a-copy\n",
      "  X_train_ratio[col] = imputed_train\n",
      "/var/folders/m4/wpp5ytyx7cx5d0jgdsbgt_3r0000gn/T/ipykernel_66550/2061040635.py:19: SettingWithCopyWarning: \n",
      "A value is trying to be set on a copy of a slice from a DataFrame.\n",
      "Try using .loc[row_indexer,col_indexer] = value instead\n",
      "\n",
      "See the caveats in the documentation: https://pandas.pydata.org/pandas-docs/stable/user_guide/indexing.html#returning-a-view-versus-a-copy\n",
      "  X_test_ratio[col] = imputed_test\n",
      "/var/folders/m4/wpp5ytyx7cx5d0jgdsbgt_3r0000gn/T/ipykernel_66550/2061040635.py:18: SettingWithCopyWarning: \n",
      "A value is trying to be set on a copy of a slice from a DataFrame.\n",
      "Try using .loc[row_indexer,col_indexer] = value instead\n",
      "\n",
      "See the caveats in the documentation: https://pandas.pydata.org/pandas-docs/stable/user_guide/indexing.html#returning-a-view-versus-a-copy\n",
      "  X_train_ratio[col] = imputed_train\n",
      "/var/folders/m4/wpp5ytyx7cx5d0jgdsbgt_3r0000gn/T/ipykernel_66550/2061040635.py:19: SettingWithCopyWarning: \n",
      "A value is trying to be set on a copy of a slice from a DataFrame.\n",
      "Try using .loc[row_indexer,col_indexer] = value instead\n",
      "\n",
      "See the caveats in the documentation: https://pandas.pydata.org/pandas-docs/stable/user_guide/indexing.html#returning-a-view-versus-a-copy\n",
      "  X_test_ratio[col] = imputed_test\n",
      "/var/folders/m4/wpp5ytyx7cx5d0jgdsbgt_3r0000gn/T/ipykernel_66550/2061040635.py:18: SettingWithCopyWarning: \n",
      "A value is trying to be set on a copy of a slice from a DataFrame.\n",
      "Try using .loc[row_indexer,col_indexer] = value instead\n",
      "\n",
      "See the caveats in the documentation: https://pandas.pydata.org/pandas-docs/stable/user_guide/indexing.html#returning-a-view-versus-a-copy\n",
      "  X_train_ratio[col] = imputed_train\n",
      "/var/folders/m4/wpp5ytyx7cx5d0jgdsbgt_3r0000gn/T/ipykernel_66550/2061040635.py:19: SettingWithCopyWarning: \n",
      "A value is trying to be set on a copy of a slice from a DataFrame.\n",
      "Try using .loc[row_indexer,col_indexer] = value instead\n",
      "\n",
      "See the caveats in the documentation: https://pandas.pydata.org/pandas-docs/stable/user_guide/indexing.html#returning-a-view-versus-a-copy\n",
      "  X_test_ratio[col] = imputed_test\n",
      "/var/folders/m4/wpp5ytyx7cx5d0jgdsbgt_3r0000gn/T/ipykernel_66550/2061040635.py:18: SettingWithCopyWarning: \n",
      "A value is trying to be set on a copy of a slice from a DataFrame.\n",
      "Try using .loc[row_indexer,col_indexer] = value instead\n",
      "\n",
      "See the caveats in the documentation: https://pandas.pydata.org/pandas-docs/stable/user_guide/indexing.html#returning-a-view-versus-a-copy\n",
      "  X_train_ratio[col] = imputed_train\n",
      "/var/folders/m4/wpp5ytyx7cx5d0jgdsbgt_3r0000gn/T/ipykernel_66550/2061040635.py:19: SettingWithCopyWarning: \n",
      "A value is trying to be set on a copy of a slice from a DataFrame.\n",
      "Try using .loc[row_indexer,col_indexer] = value instead\n",
      "\n",
      "See the caveats in the documentation: https://pandas.pydata.org/pandas-docs/stable/user_guide/indexing.html#returning-a-view-versus-a-copy\n",
      "  X_test_ratio[col] = imputed_test\n",
      "/var/folders/m4/wpp5ytyx7cx5d0jgdsbgt_3r0000gn/T/ipykernel_66550/2061040635.py:18: SettingWithCopyWarning: \n",
      "A value is trying to be set on a copy of a slice from a DataFrame.\n",
      "Try using .loc[row_indexer,col_indexer] = value instead\n",
      "\n",
      "See the caveats in the documentation: https://pandas.pydata.org/pandas-docs/stable/user_guide/indexing.html#returning-a-view-versus-a-copy\n",
      "  X_train_ratio[col] = imputed_train\n",
      "/var/folders/m4/wpp5ytyx7cx5d0jgdsbgt_3r0000gn/T/ipykernel_66550/2061040635.py:19: SettingWithCopyWarning: \n",
      "A value is trying to be set on a copy of a slice from a DataFrame.\n",
      "Try using .loc[row_indexer,col_indexer] = value instead\n",
      "\n",
      "See the caveats in the documentation: https://pandas.pydata.org/pandas-docs/stable/user_guide/indexing.html#returning-a-view-versus-a-copy\n",
      "  X_test_ratio[col] = imputed_test\n",
      "/var/folders/m4/wpp5ytyx7cx5d0jgdsbgt_3r0000gn/T/ipykernel_66550/2061040635.py:18: SettingWithCopyWarning: \n",
      "A value is trying to be set on a copy of a slice from a DataFrame.\n",
      "Try using .loc[row_indexer,col_indexer] = value instead\n",
      "\n",
      "See the caveats in the documentation: https://pandas.pydata.org/pandas-docs/stable/user_guide/indexing.html#returning-a-view-versus-a-copy\n",
      "  X_train_ratio[col] = imputed_train\n",
      "/var/folders/m4/wpp5ytyx7cx5d0jgdsbgt_3r0000gn/T/ipykernel_66550/2061040635.py:19: SettingWithCopyWarning: \n",
      "A value is trying to be set on a copy of a slice from a DataFrame.\n",
      "Try using .loc[row_indexer,col_indexer] = value instead\n",
      "\n",
      "See the caveats in the documentation: https://pandas.pydata.org/pandas-docs/stable/user_guide/indexing.html#returning-a-view-versus-a-copy\n",
      "  X_test_ratio[col] = imputed_test\n",
      "/var/folders/m4/wpp5ytyx7cx5d0jgdsbgt_3r0000gn/T/ipykernel_66550/2061040635.py:18: SettingWithCopyWarning: \n",
      "A value is trying to be set on a copy of a slice from a DataFrame.\n",
      "Try using .loc[row_indexer,col_indexer] = value instead\n",
      "\n",
      "See the caveats in the documentation: https://pandas.pydata.org/pandas-docs/stable/user_guide/indexing.html#returning-a-view-versus-a-copy\n",
      "  X_train_ratio[col] = imputed_train\n",
      "/var/folders/m4/wpp5ytyx7cx5d0jgdsbgt_3r0000gn/T/ipykernel_66550/2061040635.py:19: SettingWithCopyWarning: \n",
      "A value is trying to be set on a copy of a slice from a DataFrame.\n",
      "Try using .loc[row_indexer,col_indexer] = value instead\n",
      "\n",
      "See the caveats in the documentation: https://pandas.pydata.org/pandas-docs/stable/user_guide/indexing.html#returning-a-view-versus-a-copy\n",
      "  X_test_ratio[col] = imputed_test\n",
      "/var/folders/m4/wpp5ytyx7cx5d0jgdsbgt_3r0000gn/T/ipykernel_66550/2061040635.py:18: SettingWithCopyWarning: \n",
      "A value is trying to be set on a copy of a slice from a DataFrame.\n",
      "Try using .loc[row_indexer,col_indexer] = value instead\n",
      "\n",
      "See the caveats in the documentation: https://pandas.pydata.org/pandas-docs/stable/user_guide/indexing.html#returning-a-view-versus-a-copy\n",
      "  X_train_ratio[col] = imputed_train\n",
      "/var/folders/m4/wpp5ytyx7cx5d0jgdsbgt_3r0000gn/T/ipykernel_66550/2061040635.py:19: SettingWithCopyWarning: \n",
      "A value is trying to be set on a copy of a slice from a DataFrame.\n",
      "Try using .loc[row_indexer,col_indexer] = value instead\n",
      "\n",
      "See the caveats in the documentation: https://pandas.pydata.org/pandas-docs/stable/user_guide/indexing.html#returning-a-view-versus-a-copy\n",
      "  X_test_ratio[col] = imputed_test\n"
     ]
    }
   ],
   "source": [
    "from sklearn.impute import KNNImputer\n",
    "\n",
    "cols_to_impute = ['dch_wc', 'ch_rsst', 'dch_rec',\n",
    "       'dch_inv', 'soft_assets', 'ch_cs', 'ch_cm', 'ch_roa', 'bm',\n",
    "       'dpi', 'reoa', 'EBIT', 'ch_fcf']\n",
    "\n",
    "# Initialize KNNImputer\n",
    "imputer = KNNImputer(n_neighbors=5)\n",
    "\n",
    "# Iterate over each column to impute\n",
    "for col in cols_to_impute:\n",
    "    \n",
    "    # Perform imputation\n",
    "    imputed_train = imputer.fit_transform(X_train_ratio[[col]])\n",
    "    imputed_test = imputer.transform(X_test_ratio[[col]])\n",
    "    \n",
    "    # Replace the original column with the imputed values\n",
    "    X_train_ratio[col] = imputed_train\n",
    "    X_test_ratio[col] = imputed_test\n"
   ]
  },
  {
   "cell_type": "code",
   "execution_count": 57,
   "metadata": {},
   "outputs": [
    {
     "data": {
      "text/plain": [
       "fyear          0\n",
       "dch_wc         0\n",
       "ch_rsst        0\n",
       "dch_rec        0\n",
       "dch_inv        0\n",
       "soft_assets    0\n",
       "ch_cs          0\n",
       "ch_cm          0\n",
       "ch_roa         0\n",
       "issue          0\n",
       "bm             0\n",
       "dpi            0\n",
       "reoa           0\n",
       "EBIT           0\n",
       "ch_fcf         0\n",
       "dtype: int64"
      ]
     },
     "execution_count": 57,
     "metadata": {},
     "output_type": "execute_result"
    }
   ],
   "source": [
    "X_train_ratio.isna().sum()"
   ]
  },
  {
   "cell_type": "markdown",
   "metadata": {},
   "source": [
    "# Handle imbalanced class"
   ]
  },
  {
   "cell_type": "code",
   "execution_count": 58,
   "metadata": {},
   "outputs": [],
   "source": [
    "from imblearn.over_sampling import SMOTE\n",
    "# Oversampling the minority\n",
    "smote = SMOTE(random_state=42)\n",
    "X_train_raw, y_train_raw = smote.fit_resample(X_train_raw, y_train_raw)\n",
    "X_train_ratio, y_train = smote.fit_resample(X_train_ratio, y_train)"
   ]
  },
  {
   "cell_type": "markdown",
   "metadata": {},
   "source": [
    "# Model 1: Logistic Regression using 14 financial ratios"
   ]
  },
  {
   "cell_type": "code",
   "execution_count": 60,
   "metadata": {},
   "outputs": [],
   "source": [
    "from sklearn.linear_model import LogisticRegression\n",
    "from sklearn.metrics import roc_auc_score\n",
    "from sklearn.metrics import ndcg_score"
   ]
  },
  {
   "cell_type": "code",
   "execution_count": 61,
   "metadata": {},
   "outputs": [
    {
     "name": "stdout",
     "output_type": "stream",
     "text": [
      "AUC: 0.7188368839540279\n"
     ]
    }
   ],
   "source": [
    "model = LogisticRegression()\n",
    "model.fit(X_train_ratio, y_train)\n",
    "\n",
    "y_pred_proba = model.predict_proba(X_test_ratio)[:, 1]  # Probability of positive class\n",
    "auc = roc_auc_score(y_test, y_pred_proba)\n",
    "print(\"AUC:\", auc)\n"
   ]
  },
  {
   "cell_type": "code",
   "execution_count": 79,
   "metadata": {},
   "outputs": [
    {
     "name": "stdout",
     "output_type": "stream",
     "text": [
      "NDCG@217: 0.03997161219410606\n"
     ]
    }
   ],
   "source": [
    "# NDCG@k assesses the ability of a fraud prediction model to identify actual fraud by picking the top k observations in a test year that have the highest predicted probability\n",
    "# of fraud. In our study, we pick a k that equals the top 1% of the observations. We select a cutoff of 1% because typically less than 1% of the firms in a year are fraud per the SEC’s AAERs.\n",
    "k = round(len(test)*0.01)\n",
    "\n",
    "# NDCG requires predictions to be ranked, so we need to sort the predictions\n",
    "sorted_indices = y_pred_proba.argsort()[::-1]  # Sort in descending order\n",
    "y_true_sorted = y_test.iloc[sorted_indices]\n",
    "y_pred_sorted = y_pred_proba[sorted_indices]\n",
    "\n",
    "# Calculate NDCG at k\n",
    "ndcg = ndcg_score([y_true_sorted], [y_pred_sorted], k=k)\n",
    "print(\"NDCG@{}:\".format(k), ndcg)\n",
    "\n"
   ]
  },
  {
   "cell_type": "code",
   "execution_count": 69,
   "metadata": {},
   "outputs": [
    {
     "name": "stdout",
     "output_type": "stream",
     "text": [
      "Accuracy: 0.5859778597785977\n",
      "Precision: 0.013585155732273028\n",
      "Recall: 0.7321428571428571\n",
      "F1 Score: 0.02667534157449577\n"
     ]
    }
   ],
   "source": [
    "from sklearn.metrics import accuracy_score, precision_score, recall_score, f1_score\n",
    "\n",
    "# Predict classes\n",
    "y_pred = model.predict(X_test_ratio)\n",
    "\n",
    "# Calculate performance metrics\n",
    "accuracy = accuracy_score(y_test, y_pred)\n",
    "precision = precision_score(y_test, y_pred)\n",
    "recall = recall_score(y_test, y_pred)\n",
    "f1 = f1_score(y_test, y_pred)\n",
    "\n",
    "# Print performance metrics\n",
    "print(\"Accuracy:\", accuracy)\n",
    "print(\"Precision:\", precision)\n",
    "print(\"Recall:\", recall)\n",
    "print(\"F1 Score:\", f1)\n"
   ]
  },
  {
   "cell_type": "code",
   "execution_count": 80,
   "metadata": {},
   "outputs": [],
   "source": [
    "results = []\n",
    "result1 = {\n",
    "    \"AUC\": auc,\n",
    "    \"NDCG@k\": ndcg,\n",
    "    \"Accuracy\": accuracy,\n",
    "    'Precision': precision,\n",
    "    'Recall': recall,\n",
    "    'F1 Score': f1\n",
    "}\n",
    "results.append(result1)"
   ]
  },
  {
   "cell_type": "markdown",
   "metadata": {},
   "source": [
    "# Model 2: SVM using 28 raw financial data"
   ]
  },
  {
   "cell_type": "code",
   "execution_count": 82,
   "metadata": {},
   "outputs": [
    {
     "name": "stdout",
     "output_type": "stream",
     "text": [
      "AUC (SVM): 0.5869794156971081\n",
      "NDCG@217 (SVM): 0.04725383163930675\n",
      "Accuracy (SVM): 0.8704335793357934\n",
      "Precision (SVM): 0.016123122022718945\n",
      "Recall (SVM): 0.2619047619047619\n",
      "F1 Score (SVM): 0.03037625129444253\n"
     ]
    }
   ],
   "source": [
    "from sklearn.svm import SVC\n",
    "\n",
    "# Initialize and fit SVM model\n",
    "svm_model = SVC(probability=True)\n",
    "svm_model.fit(X_train_raw, y_train_raw)\n",
    "\n",
    "# Predict probabilities\n",
    "y_pred_proba_svm = svm_model.predict_proba(X_test_raw)[:, 1]\n",
    "\n",
    "# Calculate AUC\n",
    "auc_svm = roc_auc_score(y_test_raw, y_pred_proba_svm)\n",
    "print(\"AUC (SVM):\", auc_svm)\n",
    "\n",
    "# Calculate NDCG at k\n",
    "sorted_indices_svm = y_pred_proba_svm.argsort()[::-1]\n",
    "y_true_sorted_svm = y_test_raw.iloc[sorted_indices_svm]\n",
    "y_pred_sorted_svm = y_pred_proba_svm[sorted_indices_svm]\n",
    "ndcg_svm = ndcg_score([y_true_sorted_svm], [y_pred_sorted_svm], k=k)\n",
    "print(\"NDCG@{} (SVM):\".format(k), ndcg_svm)\n",
    "\n",
    "# Predict classes\n",
    "y_pred_svm = svm_model.predict(X_test_raw)\n",
    "\n",
    "# Calculate performance metrics\n",
    "accuracy_svm = accuracy_score(y_test_raw, y_pred_svm)\n",
    "precision_svm = precision_score(y_test_raw, y_pred_svm)\n",
    "recall_svm = recall_score(y_test_raw, y_pred_svm)\n",
    "f1_svm = f1_score(y_test_raw, y_pred_svm)\n",
    "\n",
    "# Print performance metrics\n",
    "print(\"Accuracy (SVM):\", accuracy_svm)\n",
    "print(\"Precision (SVM):\", precision_svm)\n",
    "print(\"Recall (SVM):\", recall_svm)\n",
    "print(\"F1 Score (SVM):\", f1_svm)\n"
   ]
  },
  {
   "cell_type": "code",
   "execution_count": 83,
   "metadata": {},
   "outputs": [],
   "source": [
    "result2 = {\n",
    "    \"AUC\": auc_svm,\n",
    "    \"NDCG@k\": ndcg_svm,\n",
    "    \"Accuracy\": accuracy_svm,\n",
    "    'Precision': precision_svm,\n",
    "    'Recall': recall_svm,\n",
    "    'F1 Score': f1_svm\n",
    "}\n",
    "results.append(result2)"
   ]
  },
  {
   "cell_type": "markdown",
   "metadata": {},
   "source": [
    "# Model 3: Logistic Regression using 28 raw financial data"
   ]
  },
  {
   "cell_type": "code",
   "execution_count": 84,
   "metadata": {},
   "outputs": [
    {
     "name": "stdout",
     "output_type": "stream",
     "text": [
      "AUC (Logistic Regression): 0.6219449498840071\n",
      "NDCG@217 (Logistic Regression): 0.08969598121453323\n",
      "Accuracy (Logistic Regression): 0.8184963099630996\n",
      "Precision (Logistic Regression): 0.018901660280970626\n",
      "Recall (Logistic Regression): 0.44047619047619047\n",
      "F1 Score (Logistic Regression): 0.03624785696791575\n"
     ]
    },
    {
     "name": "stderr",
     "output_type": "stream",
     "text": [
      "/Users/xinyi/anaconda3/lib/python3.11/site-packages/sklearn/linear_model/_logistic.py:458: ConvergenceWarning: lbfgs failed to converge (status=1):\n",
      "STOP: TOTAL NO. of ITERATIONS REACHED LIMIT.\n",
      "\n",
      "Increase the number of iterations (max_iter) or scale the data as shown in:\n",
      "    https://scikit-learn.org/stable/modules/preprocessing.html\n",
      "Please also refer to the documentation for alternative solver options:\n",
      "    https://scikit-learn.org/stable/modules/linear_model.html#logistic-regression\n",
      "  n_iter_i = _check_optimize_result(\n"
     ]
    }
   ],
   "source": [
    "lr_model = LogisticRegression()\n",
    "lr_model.fit(X_train_raw, y_train_raw)\n",
    "\n",
    "# Predict probabilities\n",
    "y_pred_proba_lr = lr_model.predict_proba(X_test_raw)[:, 1]\n",
    "\n",
    "# Calculate AUC\n",
    "auc_lr = roc_auc_score(y_test_raw, y_pred_proba_lr)\n",
    "print(\"AUC (Logistic Regression):\", auc_lr)\n",
    "\n",
    "sorted_indices_lr = y_pred_proba_lr.argsort()[::-1]\n",
    "y_true_sorted_lr = y_test_raw.iloc[sorted_indices_lr]\n",
    "y_pred_sorted_lr = y_pred_proba_lr[sorted_indices_lr]\n",
    "ndcg_lr = ndcg_score([y_true_sorted_lr], [y_pred_sorted_lr], k=k)\n",
    "print(\"NDCG@{} (Logistic Regression):\".format(k), ndcg_lr)\n",
    "\n",
    "# Predict classes\n",
    "y_pred_lr = lr_model.predict(X_test_raw)\n",
    "\n",
    "# Calculate performance metrics\n",
    "accuracy_lr = accuracy_score(y_test_raw, y_pred_lr)\n",
    "precision_lr = precision_score(y_test_raw, y_pred_lr)\n",
    "recall_lr = recall_score(y_test_raw, y_pred_lr)\n",
    "f1_lr = f1_score(y_test_raw, y_pred_lr)\n",
    "\n",
    "# Print performance metrics\n",
    "print(\"Accuracy (Logistic Regression):\", accuracy_lr)\n",
    "print(\"Precision (Logistic Regression):\", precision_lr)\n",
    "print(\"Recall (Logistic Regression):\", recall_lr)\n",
    "print(\"F1 Score (Logistic Regression):\", f1_lr)\n"
   ]
  },
  {
   "cell_type": "code",
   "execution_count": 85,
   "metadata": {},
   "outputs": [],
   "source": [
    "result3 = {\n",
    "    \"AUC\": auc_lr,\n",
    "    \"NDCG@k\": ndcg_lr,\n",
    "    \"Accuracy\": accuracy_lr,\n",
    "    'Precision': precision_lr,\n",
    "    'Recall': recall_lr,\n",
    "    'F1 Score': f1_lr\n",
    "}\n",
    "results.append(result3)"
   ]
  },
  {
   "cell_type": "code",
   "execution_count": 86,
   "metadata": {},
   "outputs": [
    {
     "data": {
      "image/png": "[encoded data removed]",
      "text/plain": [
       "<Figure size 1500x1000 with 6 Axes>"
      ]
     },
     "metadata": {},
     "output_type": "display_data"
    }
   ],
   "source": [
    "import seaborn as sns\n",
    "import matplotlib.pyplot as plt\n",
    "\n",
    "results_df = pd.DataFrame(results)\n",
    "\n",
    "metrics = ['AUC', 'NDCG@k', 'Accuracy', 'Precision', 'Recall', 'F1 Score']\n",
    "\n",
    "# Create a figure with subplots\n",
    "fig, axes = plt.subplots(2, 3, figsize=(15, 10))\n",
    "axes = axes.flatten()  # Flatten the axes for easier iteration\n",
    "\n",
    "# Plot each metric in a separate subplot\n",
    "for idx, metric in enumerate(metrics):\n",
    "    ax = axes[idx]\n",
    "    ax.bar(results_df.index, results_df[metric], color='steelblue')\n",
    "    ax.set_xlabel('Model')\n",
    "    ax.set_ylabel(metrics[idx])\n",
    "    ax.set_title(f'{metrics[idx]} over different models')\n",
    "\n",
    "plt.tight_layout()\n",
    "plt.show()"
   ]
  }
 ],
 "metadata": {
  "kernelspec": {
   "display_name": "base",
   "language": "python",
   "name": "python3"
  },
  "language_info": {
   "codemirror_mode": {
    "name": "ipython",
    "version": 3
   },
   "file_extension": ".py",
   "mimetype": "text/x-python",
   "name": "python",
   "nbconvert_exporter": "python",
   "pygments_lexer": "ipython3",
   "version": "3.11.7"
  }
 },
 "nbformat": 4,
 "nbformat_minor": 2
}
